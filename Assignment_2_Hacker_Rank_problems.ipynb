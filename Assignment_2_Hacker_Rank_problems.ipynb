{
  "cells": [
    {
      "cell_type": "code",
      "source": [],
      "metadata": {
        "id": "Ms-v-2BZ_sOj"
      },
      "execution_count": null,
      "outputs": []
    },
    {
      "cell_type": "markdown",
      "source": [
        "# Let's learn about list comprehensions! You are given three integers  and  representing the dimensions of a cuboid along with an integer . Print a list of all possible coordinates given by  on a 3D grid where the sum of  is not equal to . Here, . Please use list comprehensions rather than multiple loops, as a learning exercise.\n",
        "\n",
        "Example\n",
        "\n",
        "\n",
        "\n",
        "\n",
        "All permutations of  are:\n",
        ".\n",
        "\n",
        "Print an array of the elements that do not sum to .\n",
        "\n",
        "\n",
        "Input Format\n",
        "\n",
        "Four integers  and , each on a separate line.\n",
        "\n",
        "Constraints\n",
        "\n",
        "Print the list in lexicographic increasing order.\n",
        "\n",
        "Sample Input 0\n",
        "\n",
        "1\n",
        "1\n",
        "1\n",
        "2\n",
        "Sample Output 0\n",
        "\n",
        "[[0, 0, 0], [0, 0, 1], [0, 1, 0], [1, 0, 0], [1, 1, 1]]\n",
        "Explanation 0\n",
        "\n",
        "Each variable  and  will have values of  or . All permutations of lists in the form .\n",
        "Remove all arrays that sum to  to leave only the valid permutations.\n",
        "\n",
        "Sample Input 1\n",
        "\n",
        "2\n",
        "2\n",
        "2\n",
        "2\n",
        "Sample Output 1\n",
        "\n",
        "[[0, 0, 0], [0, 0, 1], [0, 1, 0], [0, 1, 2], [0, 2, 1], [0, 2, 2], [1, 0, 0], [1, 0, 2], [1, 1, 1], [1, 1, 2], [1, 2, 0], [1, 2, 1], [1, 2, 2], [2, 0, 1], [2, 0, 2], [2, 1, 0], [2, 1, 1], [2, 1, 2], [2, 2, 0], [2, 2, 1], [2, 2, 2]]"
      ],
      "metadata": {
        "id": "bPo7Yi3LEEQ3"
      }
    },
    {
      "cell_type": "code",
      "source": [
        "if __name__ == '__main__':\n",
        "    x = 1\n",
        "    y = 1\n",
        "    z = 2\n",
        "    n = 3\n",
        "    result = [[i,j,k] for i in range(x+1) for j in range(y+1) for k in range(z+1) if i+j+k != n]\n",
        "    print(result)"
      ],
      "metadata": {
        "colab": {
          "base_uri": "https://localhost:8080/"
        },
        "id": "prjsYFMy_tWH",
        "outputId": "f0d48ff0-ace1-4810-9616-cfd506f5d5b2"
      },
      "execution_count": null,
      "outputs": [
        {
          "output_type": "stream",
          "name": "stdout",
          "text": [
            "[[0, 0, 0], [0, 0, 1], [0, 0, 2], [0, 1, 0], [0, 1, 1], [1, 0, 0], [1, 0, 1], [1, 1, 0], [1, 1, 2]]\n"
          ]
        }
      ]
    },
    {
      "cell_type": "code",
      "source": [
        "if __name__ == '__main__':\n",
        "    x = int(input())\n",
        "    y = int(input())\n",
        "    z = int(input())\n",
        "    n = int(input())\n",
        "    op = [[i,j,k] for i in range(x+1) for j in range(y+1) for k in range(z+1) if i+j+k!=n ]\n",
        "print(op)"
      ],
      "metadata": {
        "colab": {
          "base_uri": "https://localhost:8080/"
        },
        "id": "B6H2pA5Q_sJ0",
        "outputId": "410aeb92-2b96-434e-9571-08710a2ce073"
      },
      "execution_count": null,
      "outputs": [
        {
          "output_type": "stream",
          "name": "stdout",
          "text": [
            "1\n",
            "1\n",
            "2\n",
            "3\n",
            "[[0, 0, 0], [0, 0, 1], [0, 0, 2], [0, 1, 0], [0, 1, 1], [1, 0, 0], [1, 0, 1], [1, 1, 0], [1, 1, 2]]\n"
          ]
        }
      ]
    },
    {
      "cell_type": "code",
      "source": [],
      "metadata": {
        "colab": {
          "base_uri": "https://localhost:8080/"
        },
        "id": "SS53LGu-_sIc",
        "outputId": "427637ab-08c4-47eb-a8e6-816a686d409b"
      },
      "execution_count": null,
      "outputs": [
        {
          "output_type": "stream",
          "name": "stdout",
          "text": [
            "<map object at 0x7f66acbe8a90>\n"
          ]
        }
      ]
    },
    {
      "cell_type": "markdown",
      "source": [
        "# Map and Lambda Function\n",
        "\n",
        "65 more points to get your next star!\n",
        "Rank: 492174|Points: 155/220\n",
        "Python\n",
        "Problem\n",
        "Submissions\n",
        "Leaderboard\n",
        "Discussions\n",
        "Editorial\n",
        "Let's learn some new Python concepts! You have to generate a list of the first  fibonacci numbers,  being the first number. Then, apply the map function and a lambda expression to cube each fibonacci number and print the list.\n",
        "\n",
        "Concept\n",
        "\n",
        "The map() function applies a function to every member of an iterable and returns the result. It takes two parameters: first, the function that is to be applied and secondly, the iterables.\n",
        "Let's say you are given a list of names, and you have to print a list that contains the length of each name.\n",
        "\n",
        ">> print (list(map(len, ['Tina', 'Raj', 'Tom'])))  \n",
        "[4, 3, 3]  \n",
        "Lambda is a single expression anonymous function often used as an inline function. In simple words, it is a function that has only one line in its body. It proves very handy in functional and GUI programming.\n",
        "\n",
        ">> sum = lambda a, b, c: a + b + c\n",
        ">> sum(1, 2, 3)\n",
        "6\n",
        "Note:\n",
        "\n",
        "Lambda functions cannot use the return statement and can only have a single expression. Unlike def, which creates a function and assigns it a name, lambda creates a function and returns the function itself. Lambda can be used inside lists and dictionaries.\n",
        "\n",
        "Input Format\n",
        "\n",
        "One line of input: an integer .\n",
        "\n",
        "Constraints\n",
        "\n",
        "\n",
        "Output Format\n",
        "\n",
        "A list on a single line containing the cubes of the first  fibonacci numbers.\n",
        "\n",
        "Sample Input\n",
        "\n",
        "5\n",
        "Sample Output\n",
        "\n",
        "[0, 1, 1, 8, 27]\n",
        "Explanation\n",
        "\n",
        "The first  fibonacci numbers are , and their cubes are ."
      ],
      "metadata": {
        "id": "i3xC8vxPGQnM"
      }
    },
    {
      "cell_type": "code",
      "source": [
        "def fib(n):\n",
        "  a=0\n",
        "  b=1\n",
        "\n",
        "  l=[]\n",
        "  l.append(a)\n",
        "  l.append(b)\n",
        "  for i in range(2,n):\n",
        "    if True:\n",
        "      c=a+b\n",
        "      a=b\n",
        "      b=c\n",
        "    l.append(c) \n",
        "  result = []\n",
        "  for i in l:\n",
        "    result.append(i*i*i)\n",
        "  \n",
        "  return result\n",
        "\n",
        "  \n",
        "n=int(input())\n",
        "fib(n)\n"
      ],
      "metadata": {
        "colab": {
          "base_uri": "https://localhost:8080/"
        },
        "id": "9zRt79uC_sGu",
        "outputId": "fe932e61-99f1-4a5b-8954-8b349830cc68"
      },
      "execution_count": null,
      "outputs": [
        {
          "name": "stdout",
          "output_type": "stream",
          "text": [
            "5\n"
          ]
        },
        {
          "output_type": "execute_result",
          "data": {
            "text/plain": [
              "[0, 1, 1, 8, 27]"
            ]
          },
          "metadata": {},
          "execution_count": 116
        }
      ]
    },
    {
      "cell_type": "code",
      "source": [
        "lst = []\n",
        "cube = lambda x: x**3 # complete the lambda function \n",
        "\n",
        "def fibonacci(n):\n",
        "    # return a list of fibonacci numbers\n",
        "    for x in range(n):\n",
        "        if x == 0 or x == 1:\n",
        "            lst.append(x)\n",
        "        else:\n",
        "            lst.append(lst[-2]+lst[-1])\n",
        "    return lst\n",
        "if __name__ == '__main__':\n",
        "    n = int(input())\n",
        "    print(list(map(cube, fibonacci(n))))"
      ],
      "metadata": {
        "colab": {
          "base_uri": "https://localhost:8080/"
        },
        "id": "t5Fba1ghQUem",
        "outputId": "f63c11c3-1283-4311-cd0d-9aab8658e38d"
      },
      "execution_count": null,
      "outputs": [
        {
          "output_type": "stream",
          "name": "stdout",
          "text": [
            "5\n",
            "[0, 1, 1, 8, 27]\n"
          ]
        }
      ]
    },
    {
      "cell_type": "markdown",
      "source": [
        "# Regular expression (or RegEx)\n",
        "\n",
        "A regular expression is a sequence of characters that define a search pattern. It is mainly used for string pattern matching.\n",
        "\n",
        "ach01_.png\n",
        "\n",
        "\n",
        "Regular expressions are extremely useful in extracting information from text such as: code, log files, spreadsheets, documents, etc.\n",
        "\n",
        "We can match a specific string  in a test string  by making our regex pattern . This is one of the simplest patterns. However, in the coming challenges, we'll see how well we can match more complex patterns and learn about their syntax.\n",
        "\n",
        "Task\n",
        "\n",
        "You have a test string . Your task is to match the string hackerrank. This is case sensitive.\n",
        "\n",
        "Note\n",
        "\n",
        "This is a regex only challenge. You are not required to write code.\n",
        "You only have to fill in the regex pattern in the blank (_________)."
      ],
      "metadata": {
        "id": "SI9dMKghIQuy"
      }
    },
    {
      "cell_type": "code",
      "source": [
        "Regex_Pattern = r'to'\t# Do not delete 'r'.\n",
        "\n",
        "import re\n",
        "\n",
        "Test_String = input()\n",
        "\n",
        "match = re.findall(Regex_Pattern, Test_String)\n",
        "\n",
        "print(\"Number of matches :\", len(match))"
      ],
      "metadata": {
        "id": "JRsN_m0wP7tD",
        "colab": {
          "base_uri": "https://localhost:8080/"
        },
        "outputId": "4309e8ff-7b6d-494c-e66b-e4a78e5ddf34"
      },
      "execution_count": 8,
      "outputs": [
        {
          "output_type": "stream",
          "name": "stdout",
          "text": [
            "The hackerrank team is on a mission to flatten the world by restructuring the DNA of every company on the planet. We rank programmers based on their coding skills, helping companies source great programmers and reduce the time to hire. As a result, we are revolutionizing the way companies discover and evaluate talented engineers. The hackerrank platform is the destination for the best engineers to hone their skills and companies to find top engineers.\n",
            "Number of matches : 5\n"
          ]
        }
      ]
    },
    {
      "cell_type": "code",
      "source": [
        "r = r\"i\"\n",
        "\n",
        "g= \"hello i is no i go i reg\"\n",
        "match = re.findall(r,g)\n",
        "len(match)"
      ],
      "metadata": {
        "colab": {
          "base_uri": "https://localhost:8080/"
        },
        "id": "s5y0Uw6EMOcm",
        "outputId": "48f10d11-3312-4553-f15c-b1e6d39c5b42"
      },
      "execution_count": 11,
      "outputs": [
        {
          "output_type": "execute_result",
          "data": {
            "text/plain": [
              "4"
            ]
          },
          "metadata": {},
          "execution_count": 11
        }
      ]
    },
    {
      "cell_type": "markdown",
      "source": [
        "# Matching Digits &\n",
        "Non-Digit Characters\n",
        "The expression \\d matches any digit [ - ].\n",
        "The expression \\D matches any character that is not a digit.\n",
        "Task\n",
        "You have a test string . Your task is to match the pattern\n",
        "Here denotes a digit character, and denotes a non-digit character.\n",
        "Note\n",
        "This is a regex only challenge. You are not required to write any code.\n",
        "You only have to fill the regex pattern in the blank ( _________ )."
      ],
      "metadata": {
        "id": "OrelCxxWMH3d"
      }
    },
    {
      "cell_type": "code",
      "source": [
        "Regex_Pattern = r\"\\d\\d\\D\\d\\d\\D\\d\\d\\d\\d\"\t# Do not delete 'r'.\n",
        "\n",
        "import re\n",
        "\n",
        "print(str(bool(re.search(Regex_Pattern, input()))).lower())"
      ],
      "metadata": {
        "id": "GWfyK-L7_sFc",
        "colab": {
          "base_uri": "https://localhost:8080/"
        },
        "outputId": "4a275fb1-fcde-40ff-cb1e-740497c4cc0a"
      },
      "execution_count": 12,
      "outputs": [
        {
          "output_type": "stream",
          "name": "stdout",
          "text": [
            "26-54-2334\n",
            "true\n"
          ]
        }
      ]
    },
    {
      "cell_type": "code",
      "source": [
        "a = \"0-9a-b.,\"\n",
        "len(a)"
      ],
      "metadata": {
        "id": "21hLAVOd_sEE",
        "colab": {
          "base_uri": "https://localhost:8080/"
        },
        "outputId": "8d506b55-8334-486c-c954-95b0fa03096f"
      },
      "execution_count": 13,
      "outputs": [
        {
          "output_type": "execute_result",
          "data": {
            "text/plain": [
              "8"
            ]
          },
          "metadata": {},
          "execution_count": 13
        }
      ]
    },
    {
      "cell_type": "code",
      "source": [
        "Regex_Pattern = r'^[123][0-2][xs0][30Aa][xsu][\\.,]$'\t# Do not delete 'r'.\n",
        "\n",
        "import re\n",
        "\n",
        "print(str(bool(re.search(Regex_Pattern, input()))).lower())"
      ],
      "metadata": {
        "id": "eEHoA3iH_sCx",
        "colab": {
          "base_uri": "https://localhost:8080/"
        },
        "outputId": "28ea7abb-e703-4c8c-9d60-9590f226a725"
      },
      "execution_count": 18,
      "outputs": [
        {
          "output_type": "stream",
          "name": "stdout",
          "text": [
            "22ndf.\n",
            "false\n"
          ]
        }
      ]
    },
    {
      "cell_type": "markdown",
      "source": [
        "# The character class [ ] matches only one out of several characters placed inside the square brackets.\n",
        "\n",
        "ach07.png\n",
        "\n",
        "Task\n",
        "\n",
        "You have a test string .\n",
        "Your task is to write a regex that will match  with following conditions:\n",
        "\n",
        " must be of length: 6\n",
        "First character: 1, 2 or 3\n",
        "Second character: 1, 2 or 0\n",
        "Third character: x, s or 0\n",
        "Fourth character: 3, 0 , A or a\n",
        "Fifth character: x, s or u\n",
        "Sixth character: . or ,\n",
        "Note\n",
        "\n",
        "This is a regex only challenge. You are not required to write any code.\n",
        "You have to fill the regex pattern in the blank (_________)."
      ],
      "metadata": {
        "id": "7JWIOzlZiFEB"
      }
    },
    {
      "cell_type": "code",
      "source": [
        "Regex_Pattern = r\"^\\d\\w{4}\\.$\"\t# Do not delete 'r'.\n",
        "\n",
        "import re\n",
        "\n",
        "print(str(bool(re.search(Regex_Pattern, input()))).lower())"
      ],
      "metadata": {
        "id": "5_Jm5MWJ_sBG",
        "colab": {
          "base_uri": "https://localhost:8080/"
        },
        "outputId": "8d60e132-6e3e-4db4-c38f-03630746834d"
      },
      "execution_count": 19,
      "outputs": [
        {
          "output_type": "stream",
          "name": "stdout",
          "text": [
            "0qwer.\n",
            "true\n"
          ]
        }
      ]
    },
    {
      "cell_type": "code",
      "source": [],
      "metadata": {
        "id": "NJz2o6bF_r_8"
      },
      "execution_count": null,
      "outputs": []
    },
    {
      "cell_type": "code",
      "source": [],
      "metadata": {
        "id": "GQlORhDt_r-a"
      },
      "execution_count": null,
      "outputs": []
    },
    {
      "cell_type": "code",
      "source": [],
      "metadata": {
        "id": "szwqZXMw_r9E"
      },
      "execution_count": null,
      "outputs": []
    },
    {
      "cell_type": "code",
      "source": [],
      "metadata": {
        "id": "FhFLqbKO_r77"
      },
      "execution_count": null,
      "outputs": []
    },
    {
      "cell_type": "code",
      "source": [],
      "metadata": {
        "id": "dg6UufID_r6O"
      },
      "execution_count": null,
      "outputs": []
    },
    {
      "cell_type": "code",
      "source": [],
      "metadata": {
        "id": "X-u4wiui_r4k"
      },
      "execution_count": null,
      "outputs": []
    },
    {
      "cell_type": "code",
      "source": [],
      "metadata": {
        "id": "5bE4l0LE_r3O"
      },
      "execution_count": null,
      "outputs": []
    },
    {
      "cell_type": "code",
      "source": [],
      "metadata": {
        "id": "AXpt_e1y_r1s"
      },
      "execution_count": null,
      "outputs": []
    },
    {
      "cell_type": "code",
      "source": [],
      "metadata": {
        "id": "H90k2cNW_r0k"
      },
      "execution_count": null,
      "outputs": []
    },
    {
      "cell_type": "code",
      "source": [],
      "metadata": {
        "id": "lSIGDmWi_rzC"
      },
      "execution_count": null,
      "outputs": []
    },
    {
      "cell_type": "code",
      "source": [],
      "metadata": {
        "id": "fc4rbVkg_rxj"
      },
      "execution_count": null,
      "outputs": []
    },
    {
      "cell_type": "code",
      "source": [],
      "metadata": {
        "id": "kFAOLz5-_rwN"
      },
      "execution_count": null,
      "outputs": []
    },
    {
      "cell_type": "code",
      "source": [],
      "metadata": {
        "id": "q8fHRuLH_rup"
      },
      "execution_count": null,
      "outputs": []
    },
    {
      "cell_type": "code",
      "source": [],
      "metadata": {
        "id": "VbEAQnwp_rs_"
      },
      "execution_count": null,
      "outputs": []
    },
    {
      "cell_type": "code",
      "source": [],
      "metadata": {
        "id": "MajCV3Gg_rrv"
      },
      "execution_count": null,
      "outputs": []
    },
    {
      "cell_type": "code",
      "source": [],
      "metadata": {
        "id": "0ie2NzME_rp_"
      },
      "execution_count": null,
      "outputs": []
    },
    {
      "cell_type": "code",
      "source": [],
      "metadata": {
        "id": "nC0L3G6U_roo"
      },
      "execution_count": null,
      "outputs": []
    },
    {
      "cell_type": "code",
      "source": [],
      "metadata": {
        "id": "bjgNHkzj_rm4"
      },
      "execution_count": null,
      "outputs": []
    },
    {
      "cell_type": "code",
      "source": [],
      "metadata": {
        "id": "IjUnEkPa_rlw"
      },
      "execution_count": null,
      "outputs": []
    },
    {
      "cell_type": "code",
      "source": [],
      "metadata": {
        "id": "qE8bdfH4_rj-"
      },
      "execution_count": null,
      "outputs": []
    },
    {
      "cell_type": "code",
      "source": [],
      "metadata": {
        "id": "DJ7zXkPa_riu"
      },
      "execution_count": null,
      "outputs": []
    },
    {
      "cell_type": "code",
      "source": [],
      "metadata": {
        "id": "ocdUZvPy_rg3"
      },
      "execution_count": null,
      "outputs": []
    },
    {
      "cell_type": "code",
      "source": [],
      "metadata": {
        "id": "TiIiouwf_rfk"
      },
      "execution_count": null,
      "outputs": []
    },
    {
      "cell_type": "code",
      "source": [],
      "metadata": {
        "id": "_STTN4MS_rdn"
      },
      "execution_count": null,
      "outputs": []
    }
  ],
  "metadata": {
    "colab": {
      "provenance": []
    },
    "kernelspec": {
      "display_name": "Python 3",
      "name": "python3"
    }
  },
  "nbformat": 4,
  "nbformat_minor": 0
}